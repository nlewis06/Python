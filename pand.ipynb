{
  "nbformat": 4,
  "nbformat_minor": 0,
  "metadata": {
    "colab": {
      "provenance": [],
      "authorship_tag": "ABX9TyMyjOpELUuSgtSopSGQUR6Z",
      "include_colab_link": true
    },
    "kernelspec": {
      "name": "python3",
      "display_name": "Python 3"
    },
    "language_info": {
      "name": "python"
    }
  },
  "cells": [
    {
      "cell_type": "markdown",
      "metadata": {
        "id": "view-in-github",
        "colab_type": "text"
      },
      "source": [
        "<a href=\"https://colab.research.google.com/github/nlewis06/Python/blob/master/pand.ipynb\" target=\"_parent\"><img src=\"https://colab.research.google.com/assets/colab-badge.svg\" alt=\"Open In Colab\"/></a>"
      ]
    },
    {
      "cell_type": "code",
      "source": [
        "class Board:\n",
        "    def __init__(self, n, epicenter):\n",
        "        self.size = n\n",
        "        self.epicenter = epicenter\n",
        "        self.cities = [0] * n\n",
        "        self.cities[epicenter] = 1\n",
        "        print(\"Creating board: \", self.cities)\n",
        "\n",
        "    def move(self, city):\n",
        "        print(\"Checking location {}, Value =  {}\".format(city, self.cities[city]))\n",
        "        for i in range(self.size):\n",
        "            if abs(city - i) <= 1 and self.cities[i] > 0:\n",
        "                self.cities[i] += 1\n",
        "        print(\"New board: \", self.cities)\n",
        "        return self.cities[city]"
      ],
      "metadata": {
        "id": "Mrq79tdyi5mG"
      },
      "execution_count": 1,
      "outputs": []
    },
    {
      "cell_type": "code",
      "execution_count": 3,
      "metadata": {
        "id": "KMo8XD-Hh4L5"
      },
      "outputs": [],
      "source": [
        "class Solver:\n",
        "    def __init__(self, board):\n",
        "        self.board = board\n",
        "        \n",
        "    def solve(self):\n",
        "        #start by inspecting the middle city\n",
        "        guess = self.board.size // 2\n",
        "        \n",
        "        while True:\n",
        "            #make a move and get the caseload of the guessed city\n",
        "            caseload = self.board.move(guess)\n",
        "            \n",
        "            #if the caseload is 1, we've found the epicenter\n",
        "            if caseload == 1:\n",
        "                return guess\n",
        "            \n",
        "            #otherwise, update the guess based on the current board state\n",
        "            if sum(self.board.state) < self.board.size // 2:\n",
        "                # if the total caseload is less than half the number of cities,\n",
        "                # the epicenter must be to the right of our current guess\n",
        "                guess += (self.board.size - guess) // 2\n",
        "            else:\n",
        "            #otherwise, the epicenter must be to the left of our guess\n",
        "                guess //= 2"
      ]
    },
    {
      "cell_type": "code",
      "source": [
        "board = Board(10,2)\n",
        "print(board.size)\n",
        "board.move(0)\n",
        "board.move(1)\n",
        "board.move(2)"
      ],
      "metadata": {
        "colab": {
          "base_uri": "https://localhost:8080/"
        },
        "id": "xm40eeEGiDfT",
        "outputId": "a7850c57-f1f3-4020-a38b-f0536e7d93b4"
      },
      "execution_count": 4,
      "outputs": [
        {
          "output_type": "stream",
          "name": "stdout",
          "text": [
            "Creating board:  [0, 0, 1, 0, 0, 0, 0, 0, 0, 0]\n",
            "10\n",
            "Checking location 0, Value =  0\n",
            "New board:  [0, 0, 1, 0, 0, 0, 0, 0, 0, 0]\n",
            "Checking location 1, Value =  0\n",
            "New board:  [0, 0, 2, 0, 0, 0, 0, 0, 0, 0]\n",
            "Checking location 2, Value =  2\n",
            "New board:  [0, 0, 3, 0, 0, 0, 0, 0, 0, 0]\n"
          ]
        },
        {
          "output_type": "execute_result",
          "data": {
            "text/plain": [
              "3"
            ]
          },
          "metadata": {},
          "execution_count": 4
        }
      ]
    }
  ]
}