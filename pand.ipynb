{
  "nbformat": 4,
  "nbformat_minor": 0,
  "metadata": {
    "colab": {
      "provenance": [],
      "authorship_tag": "ABX9TyNpTQTHxbrsmenvVTxjWomL",
      "include_colab_link": true
    },
    "kernelspec": {
      "name": "python3",
      "display_name": "Python 3"
    },
    "language_info": {
      "name": "python"
    }
  },
  "cells": [
    {
      "cell_type": "markdown",
      "metadata": {
        "id": "view-in-github",
        "colab_type": "text"
      },
      "source": [
        "<a href=\"https://colab.research.google.com/github/nlewis06/Python/blob/master/pand.ipynb\" target=\"_parent\"><img src=\"https://colab.research.google.com/assets/colab-badge.svg\" alt=\"Open In Colab\"/></a>"
      ]
    },
    {
      "cell_type": "code",
      "source": [
        "#creating board class statement\n",
        "class Board:\n",
        "    def __init__(self, n, epicenter): #defined function with self, n and epicenter arguments\n",
        "        self.size = n\n",
        "        self.cities = [0] * n\n",
        "        self.cities[epicenter] = 1\n",
        "        print(\"Creating board: \", self.cities)\n",
        "\n",
        "    def move(self, city): #defined move function\n",
        "        print(\"Checking location {}, Value =  {}\".format(city, self.cities[city]))\n",
        "        self.cities = [min(1 + self.cities[i], 2) if abs(i - city) <= 1 and self.cities[i] == 1 else self.cities[i] for i in range(self.size)]\n",
        "        print(\"New board: \", self.cities)\n",
        "        return self.cities[city]\n",
        "\n",
        "\n",
        "class Solver: #creating Solver class\n",
        "    def __init__(self, board):\n",
        "        self.board = board\n",
        "\n",
        "    def solve(self):\n",
        "        for i in range(self.board.size):\n",
        "            if self.board.move(i) == 1:\n",
        "                return i"
      ],
      "metadata": {
        "id": "Lnom72rw2maM"
      },
      "execution_count": 1,
      "outputs": []
    },
    {
      "cell_type": "code",
      "source": [
        "#game implementation\n",
        "board = Board(10, 3)\n",
        "solver = Solver(board)\n",
        "print(solver.solve())"
      ],
      "metadata": {
        "colab": {
          "base_uri": "https://localhost:8080/"
        },
        "id": "SJmYdEPl28Gm",
        "outputId": "e51bc028-189e-4353-f0b3-e62944481844"
      },
      "execution_count": 3,
      "outputs": [
        {
          "output_type": "stream",
          "name": "stdout",
          "text": [
            "Creating board:  [0, 0, 0, 1, 0, 0, 0, 0, 0, 0]\n",
            "Checking location 0, Value =  0\n",
            "New board:  [0, 0, 0, 1, 0, 0, 0, 0, 0, 0]\n",
            "Checking location 1, Value =  0\n",
            "New board:  [0, 0, 0, 1, 0, 0, 0, 0, 0, 0]\n",
            "Checking location 2, Value =  0\n",
            "New board:  [0, 0, 0, 2, 0, 0, 0, 0, 0, 0]\n",
            "Checking location 3, Value =  2\n",
            "New board:  [0, 0, 0, 2, 0, 0, 0, 0, 0, 0]\n",
            "Checking location 4, Value =  0\n",
            "New board:  [0, 0, 0, 2, 0, 0, 0, 0, 0, 0]\n",
            "Checking location 5, Value =  0\n",
            "New board:  [0, 0, 0, 2, 0, 0, 0, 0, 0, 0]\n",
            "Checking location 6, Value =  0\n",
            "New board:  [0, 0, 0, 2, 0, 0, 0, 0, 0, 0]\n",
            "Checking location 7, Value =  0\n",
            "New board:  [0, 0, 0, 2, 0, 0, 0, 0, 0, 0]\n",
            "Checking location 8, Value =  0\n",
            "New board:  [0, 0, 0, 2, 0, 0, 0, 0, 0, 0]\n",
            "Checking location 9, Value =  0\n",
            "New board:  [0, 0, 0, 2, 0, 0, 0, 0, 0, 0]\n",
            "None\n"
          ]
        }
      ]
    }
  ]
}